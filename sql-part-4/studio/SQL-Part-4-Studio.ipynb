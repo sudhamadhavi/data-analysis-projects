{
    "cells": [
        {
            "attachments": {},
            "cell_type": "markdown",
            "metadata": {
                "azdata_cell_guid": "3ea3f8a2-b444-4354-be8b-eebc139b3c13"
            },
            "source": [
                "# SQL Part 4 Studio\n",
                "\n",
                "For this studio, you will be working in small groups and using the BooksDB.  One group member should screen share while fellow group members code along in their own notebooks.  Each group member will submit a link to their studio notebook.\n",
                "\n",
                "You are back at the bookstore helping employees with their inventory of books.   Four employees need your help with finding books to create in-store displays.  Read their requests and decide if you want to use a correlated subquery, nested subquery, UNION operator, EXCEPT operator, or INTERSECT operator.  You may not use any joins or add multiple statements to the WHERE clause unless explicitly asked."
            ]
        },
        {
            "attachments": {},
            "cell_type": "markdown",
            "metadata": {
                "azdata_cell_guid": "5c8b1c77-0878-4dc6-8e79-7f64e5e1df0d"
            },
            "source": [
                "## QUESTION 1:  Willow\n",
                "\n",
                "Willow wants a list of book titles that have multiple authors attributed to them.  Write a query to return her desired results."
            ]
        },
        {
            "cell_type": "code",
            "execution_count": null,
            "metadata": {
                "azdata_cell_guid": "46c76d2f-acbc-4fd2-9c2a-367044fda616",
                "tags": []
            },
            "outputs": [
                {
                    "data": {
                        "text/html": [
                            "Commands completed successfully."
                        ]
                    },
                    "metadata": {},
                    "output_type": "display_data"
                },
                {
                    "data": {
                        "text/html": [
                            "Total execution time: 00:00:00.080"
                        ]
                    },
                    "metadata": {},
                    "output_type": "display_data"
                }
            ],
            "source": [
                "SELECT \n",
                "    title,\n",
                "    authors,\n",
                "    LEN(authors) - LEN(REPLACE(authors, ',', '')) +1 AS author_count\n",
                "FROM books\n",
                "WHERE LEN(authors) - LEN(REPLACE(authors, ',', '')) > 1;"
            ]
        },
        {
            "attachments": {},
            "cell_type": "markdown",
            "metadata": {
                "azdata_cell_guid": "06f2a08a-a54e-484e-8053-c74594da9db2"
            },
            "source": [
                "## QUESTION 2: Ira\n",
                "\n",
                "Ira was asked by a customer for titles that have been tagged \"Meditation\".  As you create a query for Ira, think about how the tables in BooksDB are organized as you write your query."
            ]
        },
        {
            "cell_type": "code",
            "execution_count": null,
            "metadata": {
                "azdata_cell_guid": "552924f9-a1cc-4979-8f53-15ba959550c2",
                "tags": []
            },
            "outputs": [
                {
                    "data": {
                        "text/html": [
                            "Commands completed successfully."
                        ]
                    },
                    "metadata": {},
                    "output_type": "display_data"
                },
                {
                    "data": {
                        "text/html": [
                            "Total execution time: 00:00:00.049"
                        ]
                    },
                    "metadata": {},
                    "output_type": "display_data"
                }
            ],
            "source": [
                "SELECT \n",
                "title \n",
                "FROM BooksDB.dbo.books \n",
                "WHERE best_book_id IN (\n",
                "    SELECT goodreads_book_id\n",
                "    FROM BooksDB.dbo.book_tags\n",
                "    WHERE tag_id = (\n",
                "        SELECT tag_id \n",
                "        FROM tags \n",
                "        WHERE tag_name = 'meditation'\n",
                "    )\n",
                ");"
            ]
        },
        {
            "attachments": {},
            "cell_type": "markdown",
            "metadata": {
                "azdata_cell_guid": "1d758d74-b4f0-4836-bdfe-d7280b5b4592"
            },
            "source": [
                "## QUESTION 3:  Alyce\n",
                "\n",
                "Alyce wants to create a display of books with an average rating of 4.2 or higher, but she only wants books that share both title and original title.  Write a query that displays both the original title and title for Alyce, in descending order by rating.  Make sure that none of the original titles contain NULL values either."
            ]
        },
        {
            "cell_type": "code",
            "execution_count": null,
            "metadata": {
                "azdata_cell_guid": "2c693b4e-6987-4c49-ba55-61094e677608",
                "tags": []
            },
            "outputs": [
                {
                    "data": {
                        "text/html": [
                            "Commands completed successfully."
                        ]
                    },
                    "metadata": {},
                    "output_type": "display_data"
                },
                {
                    "data": {
                        "text/html": [
                            "Total execution time: 00:00:00.048"
                        ]
                    },
                    "metadata": {},
                    "output_type": "display_data"
                }
            ],
            "source": [
                "select books,title,books.original_title,books.average_rating\n",
                "from BookdDB.dbo.books\n",
                "where books.average_rating >= 4.2\n",
                "AND books.original_title IS NOT NULL\n",
                "AND books.title = books.original_title\n",
                "ORDER BY books.average_rating DESC;"
            ]
        },
        {
            "attachments": {},
            "cell_type": "markdown",
            "metadata": {
                "azdata_cell_guid": "c3cb4fa8-802c-4130-8740-2adf20ec6a15"
            },
            "source": [
                "## QUESTION 4:  Thisbe\n",
                "\n",
                "Thisbe is planning to make a long-term display of popular books that she will update monthly, reflecting different time periods.  She wants to make it reader-centric by including titles that readers have averagely rated higher than the book's actual average rating. \n",
                "\n",
                "**Part A:**   Write a query that compares the publication time with average reader ratings.\n",
                "\n",
                "**Part B:**  She wants the list ordered by year, then the book title"
            ]
        },
        {
            "cell_type": "code",
            "execution_count": null,
            "metadata": {
                "azdata_cell_guid": "164e0a22-349f-45ed-afe8-0753d5a8c6fc",
                "tags": []
            },
            "outputs": [
                {
                    "data": {
                        "text/html": [
                            "Commands completed successfully."
                        ]
                    },
                    "metadata": {},
                    "output_type": "display_data"
                },
                {
                    "data": {
                        "text/html": [
                            "Total execution time: 00:00:00.051"
                        ]
                    },
                    "metadata": {},
                    "output_type": "display_data"
                }
            ],
            "source": [
                "--- Part A:\n",
                "select b.original_publication_year,b.title \n",
                "from BooksDB.dbo.books as b\n",
                "where b.average_rating < (select AVG(r.rating) as reader\n",
                "                            from BooksDB.dbo.ratings as r\n",
                "                            where r.book_id = b.book_id\n",
                "                        \n",
                ")\n",
                "\n",
                "---- Part B :\n",
                "select b.original_publication_year,b.title \n",
                "from BooksDB.dbo.books as b\n",
                "where b.average_rating < (select AVG(r.rating) as reader\n",
                "                            from BooksDB.dbo.ratings as r\n",
                "                            where r.book_id = b.book_id\n",
                "                        \n",
                ")\n",
                "ORDER BY b.original_publication_year,b.title;"
            ]
        }
    ],
    "metadata": {
        "extensions": {
            "vscode": {
                "version": 1,
                "views": []
            }
        },
        "kernelspec": {
            "display_name": "SQL",
            "language": "sql",
            "name": "SQL"
        },
        "language_info": {
            "name": "sql",
            "version": ""
        }
    },
    "nbformat": 4,
    "nbformat_minor": 2
}
