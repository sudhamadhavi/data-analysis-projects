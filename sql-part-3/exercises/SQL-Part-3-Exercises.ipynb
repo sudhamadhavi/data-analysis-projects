{
    "cells": [
        {
            "cell_type": "markdown",
            "metadata": {
                "azdata_cell_guid": "c739e118-2a3a-45f9-bd51-090c836e7a7e"
            },
            "source": [
                "# SQL Part 3 Exercises: Joins\n",
                "\n",
                "This notebook works with `BooksDB`.\n",
                "\n",
                "**Questions 1-4** focus on how joins work in a more general sense.  If you are not sure how to best answer the questions, try manipulating the queries by changing the order of joins, the length of the TOP, or how they are ordered.\n",
                "\n",
                "Note: If some of the queries are not returning quickly, you can try closing and restarting Visual Studio Code after a few minutes.\n",
                "\n",
                "In **questions 5-8**, you will be asked to join tables to find results about titles, tags, and the books users want to read.\n",
                "\n",
                "As you go through the questions, you will see 'Minimum Desired Output'.  This will provide you with the bare minimum columns needed to answer the questions.  When you write the queries, add as many additional columns as you need to best find your answers."
            ]
        },
        {
            "cell_type": "markdown",
            "metadata": {
                "azdata_cell_guid": "cdfaf133-068f-496d-8ecb-ecfde5c8d9f5"
            },
            "source": [
                "## QUESTION 1:  Exploring a `LEFT JOIN` using the `books` and `to_read` tables\n",
                "\n",
                "The code block below has been commented out. To answer this question, you will need to uncomment it by removing the `/*` (line 1) and `*/` (line 16).\n",
                "\n",
                "**Part A:** Look at Query 1, which table is the 'Left' table and which is the 'Right'?\n",
                "\n",
                "> Your Answer: BooksDB.dbo.books AS b is the left table.\n",
                "BooksDB.dbo.to_read AS tr is the right table\n",
                " \n",
                "\n",
                "**Part B:** Using table 2, answer the following questions: \n",
                "- When we added a `WHERE tr.user_id IS NOT NULL` clause (line 14), how did the table change?  Why?\n",
                "\n",
                "> Your Answer: First the where condition filters out all the rows where tr.user_id is null  and only keep the rows where both tables match -  means it behave like inner join insted of a left join."
            ]
        },
        {
            "cell_type": "code",
            "execution_count": null,
            "metadata": {
                "azdata_cell_guid": "a2038d22-5f42-4539-af89-d1fd36c66d47",
                "language": "sql"
            },
            "outputs": [],
            "source": [
                "\n",
                "-- Query 1: LEFT JOIN\n",
                "SELECT TOP 50 b.title, b.average_rating, b.books_count,tr.user_id, tr.book_id\n",
                "FROM BooksDB.dbo.books AS b\n",
                "LEFT JOIN BooksDB.dbo.to_read AS tr\n",
                "ON b.best_book_id = tr.book_id\n",
                "ORDER BY b.average_rating;\n",
                "\n",
                "-- Query 2: LEFT JOIN USING 'IS NOT NULL'\n",
                "SELECT TOP 50 b.title, b.average_rating, b.books_count,tr.user_id, tr.book_id\n",
                "FROM BooksDB.dbo.books AS b\n",
                "LEFT JOIN BooksDB.dbo.to_read AS tr\n",
                "ON b.best_book_id = tr.book_id\n",
                "WHERE tr.user_id IS NOT NULL\n",
                "ORDER BY b.average_rating;\n"
            ]
        },
        {
            "cell_type": "markdown",
            "metadata": {
                "azdata_cell_guid": "e5b293e1-3c99-4696-93db-71e77df50757"
            },
            "source": [
                "## **QUESTION 2:** Exploring `RIGHT` joins with the `books` and `to_read` tables\n",
                "\n",
                "You will need to uncomment the query to answer the question.\n",
                "\n",
                "**Part A:** Looking at the query, which table is the 'Left' and which is the 'Right'?\n",
                "\n",
                "> Your Answer: BooksDB.dbo.books AS b is the left table and BooksDB.dbo.to_read is the right table.\n",
                "\n",
                "**Part B:** How do the RIGHT-joined tables differ from the LEFT-joined tables in Question 1?\n",
                "\n",
                "> Your Answer: In a LEFT JOIN, all rows from the left table are returned, along with only the matching rows from the right table.\n",
                "In a RIGHT JOIN, all rows from the right table are returned, along with only the matching rows from the left table."
            ]
        },
        {
            "cell_type": "code",
            "execution_count": null,
            "metadata": {
                "azdata_cell_guid": "3916ff86-e45b-47d3-ae94-c1ee7903c7b9",
                "language": "sql"
            },
            "outputs": [],
            "source": [
                "\n",
                "-- Query 1: RIGHT JOIN\n",
                "SELECT TOP 300 b.title, b.average_rating, b.books_count, tr.user_id, tr.book_id\n",
                "FROM BooksDB.dbo.books AS b\n",
                "RIGHT JOIN BooksDB.dbo.to_read AS tr\n",
                "ON b.best_book_id = tr.book_id;\n"
            ]
        },
        {
            "cell_type": "markdown",
            "metadata": {
                "azdata_cell_guid": "db92a0de-8cbe-47b2-a989-c77138c427fd"
            },
            "source": [
                "## **QUESTION 3:** Exploring FULL JOINS with the `books` and `to_read` tables\n",
                "\n",
                "You will need to uncomment the Query to answer the question.\n",
                "\n",
                "**Part A:**  Look at the table and explore how it was populated.  Try manipulating the query to better understand how this table works.  Try adding a WHERE clause, or ORDER BY a column on the `books` table.  Based on your exploration, can you think of when you might want a FULL join rather than a LEFT, RIGHT, or INNER?\n",
                "\n",
                "> Your Answer:"
            ]
        },
        {
            "cell_type": "code",
            "execution_count": null,
            "metadata": {
                "azdata_cell_guid": "421beb17-491d-4d0b-9a83-4383e9a878f6",
                "language": "sql"
            },
            "outputs": [],
            "source": [
                "/*\n",
                "-- FULL JOIN\n",
                "SELECT TOP 30 b.title, b.average_rating, b.books_count,tr.user_id, tr.book_id\n",
                "FROM BooksDB.dbo.books AS b\n",
                "FULL JOIN BooksDB.dbo.to_read AS tr\n",
                "ON b.book_id = tr.book_id;\n",
                "*/"
            ]
        },
        {
            "cell_type": "markdown",
            "metadata": {
                "azdata_cell_guid": "c9219b58-ba70-4f18-b40d-5a959f50ec10"
            },
            "source": [
                "## **QUESTION 4:** Exploring INNER Joins with the `books` and `to_read` tables\n",
                "\n",
                "You will need to uncomment the Query to answer the question.\n",
                "\n",
                "**Part A:**  What does an inner join do?\n",
                "\n",
                "> Your Answer: Returns results from all the rows from both tables with null values filled in for all unmatched rows.\n",
                "\n",
                "**Part B:** Currently this table has an `'IS NOT NULL'` in the `WHERE` clause. Is this necessary for this table? Why or Why not?\n",
                "\n",
                "> Your Answer:No, the IS NOT NULL condition isn’t necessary here because an INNER JOIN only returns rows where both tables match. Nulls can only come from missing data in the books table itself, not from the join.\n",
                "\n",
                "**Part C:**  When using SQL, you are usually returning much larger tables so every line of code will add to the compilation and return time.  Rewrite this inner join query so that it contains no redundant code.\n",
                "\n",
                "> Your Answer:SELECT TOP 30 b.title, b.average_rating, b.books_count,tr.user_id, tr.book_id\n",
                "FROM BooksDB.dbo.books AS b\n",
                "INNER JOIN BooksDB.dbo.to_read AS tr\n",
                "ON b.book_id = tr.book_id\n",
                "ORDER BY tr.book_id;"
            ]
        },
        {
            "cell_type": "code",
            "execution_count": null,
            "metadata": {
                "azdata_cell_guid": "6ee6b18f-d81b-46b8-857b-95e2e88bd1fd",
                "language": "sql"
            },
            "outputs": [],
            "source": [
                "\n",
                "SELECT TOP 30 b.title, b.average_rating, b.books_count,tr.user_id, tr.book_id\n",
                "FROM BooksDB.dbo.books AS b\n",
                "INNER JOIN BooksDB.dbo.to_read AS tr\n",
                "ON b.book_id = tr.book_id\n",
                "WHERE b.title IS NOT NULL\n",
                "ORDER BY tr.book_id;\n"
            ]
        },
        {
            "cell_type": "markdown",
            "metadata": {
                "azdata_cell_guid": "6c20039d-2496-42c6-b5fc-db8f1ded0ce4"
            },
            "source": [
                "## **QUESTION 5:**  Using joins to find the most tagged book and the most popular tag\n",
                "\n",
                "We will be writing 3 queries to find both the most tagged book and that book's most popular tag.\n",
                "\n",
                "**Part A:**  What is the most tagged book?\n",
                "\n",
                "Start by joining the `books` and `book_tags` tables ON the `books.best_book_id` and `book_tags.goodreads_book_id`. We want the *most popular* book, so think about ordering the table in a way that will display both the book title and the number of times a book tag has been used.\n",
                "\n",
                "Minimum Desired output:_  The title of the most tagged book, and the number of times the book has been tagged.\n",
                "\n",
                "**Title:** 15th Affair ('women's mirder club # 15)\n",
                "\n",
                "**Part B:** How many different tags have been used for the most tagged book?\n",
                "\n",
                "Start by joining the `books` and `book_tags` tables ON the `books.best_book_id` and `book_tags.goodreads_book_id`. We want to find the *most popular* tag id, so think about ordering in a way that will display the most popular tag id.\n",
                "\n",
                "*Minimum Desired Output:* The tag id for the most popular tag used for the most tagged book.\n",
                "\n",
                "**Tag Id:** 6694\n",
                "\n",
                "**Part C:** What is this particular tag?\n",
                "\n",
                "You may return this answer with a simple query.\n",
                "\n",
                "*Minimum Desired Output:* The tag name for the most popular tag used for the most tagged book.\n",
                "\n",
                "**Tag Name:**2003"
            ]
        },
        {
            "cell_type": "code",
            "execution_count": null,
            "metadata": {
                "azdata_cell_guid": "c1d7f859-cf56-424e-bd90-0203ab5a1cdd",
                "language": "sql"
            },
            "outputs": [],
            "source": [
                " Part A:\n",
                " SELECT TOP 1\n",
                "    b.title,\n",
                "    COUNT(bt.tag_id) AS no_of_tags\n",
                "FROM books b\n",
                "JOIN book_tags bt\n",
                "    ON b.id = bt.goodreads_book_id\n",
                "GROUP BY b.title\n",
                "ORDER BY no_of_tags DESC; \n",
                "\n",
                "--- Title:15th Affair ('women's mirder club # 15)----\n",
                "\n",
                "--- PArt B:\n",
                "\n",
                "SELECT TOP 1\n",
                "    b.id,\n",
                "    b.title,\n",
                "    COUNT(bt.tag_id) AS total_tags\n",
                "FROM books b\n",
                "JOIN book_tags bt\n",
                "    ON b.id = bt.goodreads_book_id\n",
                "GROUP BY b.id, b.title\n",
                "ORDER BY total_tags DESC;\n",
                "--- 6694-- \n",
                "\n",
                "--Part C: --\n",
                "SELECT TOP 1\n",
                "    t.tag_name,\n",
                "    COUNT(bt.tag_id) AS tag_count\n",
                "FROM book_tags bt\n",
                "JOIN tags t\n",
                "    ON bt.tag_id = t.tag_id\n",
                "WHERE bt.goodreads_book_id = (\n",
                "    SELECT TOP 1 b.id\n",
                "    FROM books b\n",
                "    JOIN book_tags bt2\n",
                "        ON b.id = bt2.goodreads_book_id\n",
                "    GROUP BY b.id\n",
                "    ORDER BY COUNT(bt2.tag_id) DESC\n",
                ")\n",
                "GROUP BY t.tag_name\n",
                "ORDER BY tag_count DESC;\n",
                "\n",
                "--Tag_name : 2003 --"
            ]
        },
        {
            "cell_type": "markdown",
            "metadata": {
                "azdata_cell_guid": "0afe0108-c632-4cde-b7e0-5e699c066e03"
            },
            "source": [
                "## QUESTION 6: Find a book based on a tag of your choice using joins.\n",
                "\n",
                "Some suggestions: any hobbies you like? baking, drawing, etc. how about favorite holidays, subjects, animals, etc?\n",
                "\n",
                "**Part A:** Explore the tags table for a tag of your choice.  Suggested ideas, try searching for one of your hobbies, a favorite time of year, favorite animal, etc.  Start by querying the tag table for your chosen tag.  (_Hint:_ in order to make sure you find all combinations of your tags, use the wildcard).  If your query returns more than one result, pick your favorite.\n",
                "\n",
                "Here is an example.  Alyce wanted to search for Halloween books.  She used the wildcard, `%halloween%` and 8 different combinations were found.  Alyce selected `halloween-storytime`, with a tag id of 13877.\n",
                "\n",
                "*Minimum Desired Output:* tag name and tag id\n",
                "\n",
                "Tag:harry Tagid:140202\n",
                "\n",
                "**Part B:** Now that you have the tag id, find the title that was tagged the most with this tag by joining the `books` and `books_tags` tables.\n",
                "\n",
                "Alyce joined the book table with the tags table and discovered that \"The Little Old Lady Who Was Not Afraid of Anything\" was tagged as `halloween-storytime` the most.\n",
                "\n",
                "*Minimum Desired Output:* title and tag count\n",
                "\n"
            ]
        },
        {
            "cell_type": "code",
            "execution_count": null,
            "metadata": {
                "azdata_cell_guid": "761b4d46-2218-486e-8336-cda901bc8551",
                "language": "sql"
            },
            "outputs": [],
            "source": [
                "-- Part A :--\n",
                "select tag_id,tag_name from tags where tag_name like '%harry%' and tag_id = '14020';\n",
                "\n",
                "---Part B:--\n",
                "SELECT TOP 1\n",
                "    b.id,b.title,\n",
                "    COUNT(bt.tag_id) AS tag_count\n",
                "FROM books b\n",
                "JOIN book_tags bt\n",
                "    ON b.id = bt.goodreads_book_id\n",
                "JOIN tags t\n",
                "    ON bt.tag_id = t.tag_id\n",
                "WHERE t.tag_name = 'guardian'\n",
                "GROUP BY b.id,b.title\n",
                "ORDER BY tag_count DESC;"
            ]
        },
        {
            "cell_type": "markdown",
            "metadata": {
                "azdata_cell_guid": "d684cef6-783d-43d1-a017-f5e5d83c46da"
            },
            "source": [
                "## **QUESTION 7:** What are the top 10 most popular book titles on the 'to read' list?\n",
                "\n",
                "**Part A:**  Explore how the `to_read` and `books` tables are organized, and then join them.  What will you use as a key?\n",
                "\n",
                "Your Answer: The to_read and books table can be joined on id on books table and user_id on to_read table\n",
                "\n",
                "**Part B:** Organize your newly joined table in a way that groups popularity based on the title based on users.\n",
                "\n",
                "*Hint:* Suggest using an alias for the aggregation you will need to run on the `user_id`\n",
                "\n",
                "*Minimum Desired Output:* title and aliased column"
            ]
        },
        {
            "cell_type": "code",
            "execution_count": null,
            "metadata": {
                "azdata_cell_guid": "3247ef18-3603-47b0-b2a1-0b6a70e8de33",
                "language": "sql"
            },
            "outputs": [],
            "source": [
                "--- Part A: --- \n",
                "\n",
                "The to_read and books table can be joined on id on books table and user_id on to_read table\n",
                "\n",
                "---- Part B :---\n",
                "SELECT\n",
                "  b.title,\n",
                "  COUNT(DISTINCT tr.user_id) AS user_count\n",
                "FROM books b\n",
                "JOIN to_read tr\n",
                "  ON b.id = tr.book_id\n",
                "GROUP BY b.title\n",
                "ORDER BY user_count DESC, b.title;"
            ]
        },
        {
            "cell_type": "markdown",
            "metadata": {
                "azdata_cell_guid": "d7f2f6a3-ecc3-4629-aacd-312723da07af"
            },
            "source": [
                "## **QUESTION 8:** Largest 'To Read' Lists\n",
                "\n",
                "**Part A:**  Create a query that returns a table that contains the top 10 users with the most number of titles on their 'to read' list.    Group all the entries by `user_id`.\n",
                "\n",
                "_Hint:_ You might want an alias for the titles.\n",
                "\n",
                "_Minimum Desired Output:_ `user_id` and your aliased column of titles.\n",
                "\n",
                "**Part B:**  The longest list length is 15 titles total, and is shared by 4 different users.  Select one of the uses and print out their entire 'to read' list."
            ]
        },
        {
            "cell_type": "code",
            "execution_count": null,
            "metadata": {
                "azdata_cell_guid": "a7ae1df0-4d43-4e27-b635-eed926d2311f",
                "language": "sql"
            },
            "outputs": [],
            "source": [
                "---- Part A\n",
                "select top 10 user_id,count(b.id) as no_of_titles from books b\n",
                " join to_read tr on b.id = tr.book_id\n",
                " group by user_id ORDER BY no_of_titles desc ;\n",
                "\n",
                " ---- Part B\n",
                "\n",
                "SELECT   b.title\n",
                "FROM to_read tr\n",
                "JOIN books b\n",
                "  ON b.id = tr.book_id\n",
                "WHERE tr.user_id = (\n",
                "  SELECT TOP 1 tr2.user_id\n",
                "  FROM to_read tr2\n",
                "  GROUP BY tr2.user_id\n",
                "  HAVING COUNT(DISTINCT tr2.book_id) = 15\n",
                "  ORDER BY tr2.user_id      \n",
                ")\n",
                "ORDER BY b.title;  \n",
                "\n"
            ]
        }
    ],
    "metadata": {
        "kernelspec": {
            "display_name": "SQL",
            "language": "sql",
            "name": "SQL"
        },
        "language_info": {
            "name": "sql",
            "version": ""
        }
    },
    "nbformat": 4,
    "nbformat_minor": 2
}
