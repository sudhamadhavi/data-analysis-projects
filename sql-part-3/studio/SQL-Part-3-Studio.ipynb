{
 "cells": [
  {
   "cell_type": "markdown",
   "metadata": {},
   "source": [
    "# SQL Part 3 Studio\n",
    "\n",
    "Let's practice your SQL querying skills! For each question, work along in the notebook, adding your query and answering the questions.\n",
    "\n",
    "## The Dataset\n",
    "\n",
    "We will be using the Goodbooks-10k dataset from the exercises in the prep work. Feel free reference your previous notebooks.\n",
    "\n",
    "1. The dataset can be found here: [goodbooks-10k](https://www.kaggle.com/zygmunt/goodbooks-10k)\n",
    "1. You can access `BooksDB` in the LaunchCode server.\n",
    "\n",
    "## Business Issue\n",
    "\n",
    "You are an employee at a small independent bookstore and you have been tasked with increasing sales.  You decide to use `BooksDB` to find books and themes to highlight in fun promotions throughout each month and/or season.  We will be starting with March and then you will have a chance to explore another month of your choosing.  We want to come up with a list of promotions to run each month.  If you are looking for ideas, here are some resources on different holidays:\n",
    "\n",
    "- [https://www.calendarr.com/united-states/calendar-2022/](https://www.calendarr.com/united-states/calendar-2022/)\n",
    "- [https://www.holidayinsights.com/moreholidays/](https://www.holidayinsights.com/moreholidays/)\n",
    "    - Click on a month and it will take you to a more detailed page"
   ]
  },
  {
   "cell_type": "markdown",
   "metadata": {},
   "source": [
    "## Part 1:  March - Women's History Month, National Pie Day (3/14), St. Patrick's Day (3/17), Season - Spring"
   ]
  },
  {
   "cell_type": "markdown",
   "metadata": {},
   "source": [
    "### Event 1: Women's History Month\n",
    "\n",
    "Highlight popular women writers based on ratings from `BooksDB` by writing a query that returns `tag_id`, the number of times each `tag_id` is used and the `tag_name`. Use the `GROUP BY` and `HAVING` clause to narrow your focus and try multiple keywords, such as \"woman\" and \"female\"."
   ]
  },
  {
   "cell_type": "code",
   "execution_count": null,
   "metadata": {
    "vscode": {
     "languageId": "sql"
    }
   },
   "outputs": [],
   "source": [
    "SELECT \n",
    "    t.tag_id AS tag_id,\n",
    "    t.tag_name,\n",
    "    COUNT(bt.goodreads_book_id) AS tag_usage,\n",
    "    AVG(b.average_rating) AS avg_rating\n",
    "FROM book_tags bt\n",
    "JOIN tags t \n",
    "    ON t.tag_id = bt.tag_id\n",
    "JOIN books b \n",
    "    ON b.id = bt.goodreads_book_id\n",
    "WHERE t.tag_name LIKE '%women%' \n",
    "   OR t.tag_name LIKE '%female%'\n",
    "   OR t.tag_name LIKE '%woman%'\n",
    "GROUP BY t.tag_id, t.tag_name\n",
    "ORDER BY avg_rating DESC, tag_usage DESC;"
   ]
  },
  {
   "cell_type": "markdown",
   "metadata": {},
   "source": [
    "### Event 2: Choose another event from March/Spring\n",
    "\n",
    "Write a query to return authors, titles, ratings, and `tag_id` that you would want to promote during your chosen event."
   ]
  },
  {
   "cell_type": "code",
   "execution_count": null,
   "metadata": {
    "vscode": {
     "languageId": "sql"
    }
   },
   "outputs": [],
   "source": [
    "select t.tag_id,b.authors,b.title,b.average_rating\n",
    "from books b \n",
    "join tags t on b.id = t.tag_id\n",
    "WHERE t.tag_name LIKE '%women%' \n",
    "   OR t.tag_name  LIKE '%female%'\n",
    "   OR t.tag_name LIKE '%woman%' ;\n",
    "\n",
    "   -- I would like to feature women-focused books in a special promotion for International Women’s Day on March 8th."
   ]
  },
  {
   "cell_type": "markdown",
   "metadata": {},
   "source": [
    "Record your thoughts about why you wrote the query the way you did."
   ]
  },
  {
   "cell_type": "markdown",
   "metadata": {},
   "source": [
    "# Part 2: Choose Another Month\n",
    "\n",
    "Choose another month and plan at least 2 events / promotions and answer the following questions:\n",
    "1. Which month did you choose?\n",
    "I choose New year and black friday\n",
    "1. What 2 events / promotions are you highlighting?\n",
    "New Year - Focus on fresh beginnings and inspiration.\n",
    "Black Friday - Focus on big discounts and high-volume sales."
   ]
  },
  {
   "cell_type": "markdown",
   "metadata": {},
   "source": [
    "# Part 3: Summarize your Work\n",
    "\n",
    "For each event write at least one query that joins any two tables in `BooksDB` to support your choice and record you thoughts as to why you used the paticlular query. At least one of your queries needs to include a `HAVING` clause."
   ]
  },
  {
   "cell_type": "code",
   "execution_count": null,
   "metadata": {
    "vscode": {
     "languageId": "sql"
    }
   },
   "outputs": [],
   "source": [
    "SELECT \n",
    "    t.tag_id AS tag_id,\n",
    "    t.tag_name,\n",
    "    COUNT(bt.goodreads_book_id) AS tag_usage,\n",
    "    AVG(b.average_rating) AS avg_rating\n",
    "FROM book_tags bt\n",
    "JOIN tags t \n",
    "    ON t.tag_id = bt.tag_id\n",
    "JOIN books b \n",
    "    ON b.id = bt.goodreads_book_id\n",
    "WHERE t.tag_name LIKE '%women%' \n",
    "   OR t.tag_name LIKE '%female%'\n",
    "   OR t.tag_name LIKE '%woman%'\n",
    "GROUP BY t.tag_id, t.tag_name\n",
    "ORDER BY avg_rating DESC, tag_usage DESC;\n",
    "\n",
    "I used this query because it correctly connects the books, book_tags, and tags tables to find books that are related to women authors.\n",
    "The WHERE clause filters the tags that include words like “women” or “female.”\n",
    "Then I used GROUP BY to organize the data by title and author, and ORDER BY to sort the results by the average rating and tag usage.\n",
    "This helps me find the most popular and highly rated books by women authors for promotion."
   ]
  },
  {
   "cell_type": "markdown",
   "metadata": {},
   "source": [
    "### Summarize Event 1\n",
    "\n",
    "Double-click to edit."
   ]
  },
  {
   "cell_type": "code",
   "execution_count": null,
   "metadata": {
    "vscode": {
     "languageId": "sql"
    }
   },
   "outputs": [],
   "source": [
    "SELECT \n",
    "    t.id AS tag_id,\n",
    "    b.authors,\n",
    "    b.title,\n",
    "    b.average_rating,\n",
    "    COUNT(t.id) AS tag_usage\n",
    "FROM book_tags bt\n",
    "JOIN tags t \n",
    "    ON t.id = bt.tag_id\n",
    "JOIN books b \n",
    "    ON b.id = bt.goodreads_book_id\n",
    "WHERE t.tag_name LIKE '%women%'\n",
    "   OR t.tag_name LIKE '%female%'\n",
    "   OR t.tag_name LIKE '%woman%'\n",
    "GROUP BY t.id, b.authors, b.title, b.average_rating\n",
    "HAVING AVG(b.average_rating) > 4.0  \n",
    "ORDER BY AVG(b.average_rating) DESC;\n",
    "\n",
    "This query finds books related to women authors or women-focused tags by joining the books, book_tags, and tags tables.\n",
    "The WHERE clause filters tags containing “women,” “female,” or “woman.”\n",
    "It then groups the results by each tag, author, and title to count how many times each tag is used (tag_usage) and to calculate the average rating.\n",
    "The HAVING clause keeps only books with an average rating above 4.0, and the ORDER BY sorts them from highest to lowest rating.\n",
    "In short, it highlights top-rated women-related books and authors that are popular based on tag usage."
   ]
  },
  {
   "cell_type": "markdown",
   "metadata": {},
   "source": [
    "### Summarize Event 2\n",
    "\n",
    "Double-click to edit."
   ]
  }
 ],
 "metadata": {
  "language_info": {
   "name": "python"
  }
 },
 "nbformat": 4,
 "nbformat_minor": 2
}
